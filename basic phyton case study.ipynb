{
 "cells": [
  {
   "cell_type": "code",
   "execution_count": 1,
   "id": "1c796abe",
   "metadata": {},
   "outputs": [
    {
     "name": "stdout",
     "output_type": "stream",
     "text": [
      "4.0\n"
     ]
    }
   ],
   "source": [
    "# Question 1\n",
    "a=(5+4*9%(3+1)/6-1)\n",
    "print(a)\n"
   ]
  },
  {
   "cell_type": "code",
   "execution_count": 2,
   "id": "287ed76b",
   "metadata": {},
   "outputs": [
    {
     "name": "stdout",
     "output_type": "stream",
     "text": [
      "29\n",
      "old number\n"
     ]
    }
   ],
   "source": [
    "# Question 2\n",
    "if(int(input())==0):\n",
    "    print(\"even number\")\n",
    "else:\n",
    "    print(\"old number\")\n"
   ]
  },
  {
   "cell_type": "code",
   "execution_count": 3,
   "id": "c1cbb7a0",
   "metadata": {},
   "outputs": [
    {
     "name": "stdout",
     "output_type": "stream",
     "text": [
      "3\n",
      "3\n",
      "6\n",
      "9\n",
      "12\n",
      "15\n",
      "18\n",
      "21\n",
      "24\n",
      "27\n",
      "30\n"
     ]
    }
   ],
   "source": [
    "# Question 3\n",
    "\n",
    "num=int(input())\n",
    "for num_table in range(1,11):\n",
    "    table=num*num_table\n",
    "    print(table)"
   ]
  },
  {
   "cell_type": "code",
   "execution_count": 5,
   "id": "a2eacca8",
   "metadata": {},
   "outputs": [
    {
     "name": "stdout",
     "output_type": "stream",
     "text": [
      "2000\n",
      "2002\n",
      "2009\n",
      "2016\n",
      "2023\n",
      "2037\n",
      "2044\n",
      "2051\n",
      "2058\n",
      "2072\n",
      "2079\n",
      "2086\n",
      "2093\n",
      "2107\n",
      "2114\n",
      "2121\n",
      "2128\n",
      "2142\n",
      "2149\n",
      "2156\n",
      "2163\n",
      "2177\n",
      "2184\n",
      "2191\n",
      "2198\n",
      "2212\n",
      "2219\n",
      "2226\n",
      "2233\n",
      "2247\n",
      "2254\n",
      "2261\n",
      "2268\n",
      "2282\n",
      "2289\n",
      "2296\n",
      "2303\n",
      "2317\n",
      "2324\n",
      "2331\n",
      "2338\n",
      "2352\n",
      "2359\n",
      "2366\n",
      "2373\n",
      "2387\n",
      "2394\n",
      "2401\n",
      "2408\n",
      "2422\n",
      "2429\n",
      "2436\n",
      "2443\n",
      "2457\n",
      "2464\n",
      "2471\n",
      "2478\n",
      "2492\n",
      "2499\n",
      "2506\n",
      "2513\n",
      "2527\n",
      "2534\n",
      "2541\n",
      "2548\n",
      "2562\n",
      "2569\n",
      "2576\n",
      "2583\n",
      "2597\n",
      "2604\n",
      "2611\n",
      "2618\n",
      "2632\n",
      "2639\n",
      "2646\n",
      "2653\n",
      "2667\n",
      "2674\n",
      "2681\n",
      "2688\n",
      "2702\n",
      "2709\n",
      "2716\n",
      "2723\n",
      "2737\n",
      "2744\n",
      "2751\n",
      "2758\n",
      "2772\n",
      "2779\n",
      "2786\n",
      "2793\n",
      "2807\n",
      "2814\n",
      "2821\n",
      "2828\n",
      "2842\n",
      "2849\n",
      "2856\n",
      "2863\n",
      "2877\n",
      "2884\n",
      "2891\n",
      "2898\n",
      "2912\n",
      "2919\n",
      "2926\n",
      "2933\n",
      "2947\n",
      "2954\n",
      "2961\n",
      "2968\n",
      "2982\n",
      "2989\n",
      "2996\n",
      "3003\n",
      "3017\n",
      "3024\n",
      "3031\n",
      "3038\n",
      "3052\n",
      "3059\n",
      "3066\n",
      "3073\n",
      "3087\n",
      "3094\n",
      "3101\n",
      "3108\n",
      "3122\n",
      "3129\n",
      "3136\n",
      "3143\n",
      "3157\n",
      "3164\n",
      "3171\n",
      "3178\n",
      "3192\n",
      "3199\n"
     ]
    }
   ],
   "source": [
    "# Question\n",
    "\n",
    "num = input()\n",
    "for num in range(2000,3200):\n",
    "    if (num%7==0 and num%5 >0):\n",
    "        print(num)"
   ]
  },
  {
   "cell_type": "code",
   "execution_count": 6,
   "id": "6915cc14",
   "metadata": {},
   "outputs": [
    {
     "name": "stdout",
     "output_type": "stream",
     "text": [
      "Number of boolean Values:1\n",
      " Number of integer values:5\n",
      " Number of String values:5\n",
      " Number of float values:1\n",
      "\n"
     ]
    }
   ],
   "source": [
    "# Question 5\n",
    "\n",
    "lst_1 = [2,3,'py','10','1','SQL',5.5,True,3,'John',None,7]\n",
    "res = len(list(i for i in lst_1 if isinstance(i,bool)))\n",
    "res_1 = len(list( i for i in lst_1 if isinstance(i,str)))\n",
    "res_2 = len(list(i for i in lst_1 if isinstance(i,float)))\n",
    "res_3 = len(list(i for i in lst_1 if isinstance(i,int)))\n",
    "print(f\"Number of boolean Values:{res}\\n\",\n",
    "     f\"Number of integer values:{res_3}\\n\",\n",
    "     f\"Number of String values:{res_1}\\n\",\n",
    "     f\"Number of float values:{res_2}\\n\")"
   ]
  },
  {
   "cell_type": "code",
   "execution_count": 15,
   "id": "2d67ad9d",
   "metadata": {},
   "outputs": [
    {
     "name": "stdout",
     "output_type": "stream",
     "text": [
      "16\n"
     ]
    }
   ],
   "source": [
    "# Question 6\n",
    "lst_1 = [2,3,'py','10',1,'SQL',5.5,True,3,'Jhon',None,7]\n",
    "res =[x for x in lst_1 if type(x) ==int]\n",
    "print(sum(res))"
   ]
  },
  {
   "cell_type": "code",
   "execution_count": 17,
   "id": "49aaaa51",
   "metadata": {},
   "outputs": [
    {
     "name": "stdout",
     "output_type": "stream",
     "text": [
      "py-sql-Jhon\n"
     ]
    }
   ],
   "source": [
    "# Question 7\n",
    "\n",
    "lst_1 = ['py','sql','Jhon']\n",
    "str(lst_1)\n",
    "\n",
    "str_concat =\"-\".join(lst_1)\n",
    "print(str_concat)"
   ]
  },
  {
   "cell_type": "code",
   "execution_count": 26,
   "id": "f89b3093",
   "metadata": {},
   "outputs": [],
   "source": [
    "# Question 8\n",
    "lst_1 = [2,3,'py','10',1,'SQL',5.5,True,3,'Jhon',None,7]\n",
    "\n",
    "def my_func(demo_dict):\n",
    "    \n",
    "    res_1 = sum([x for x in lst_1 if type(x)==int]) \n",
    "    res_2 = len([x for x in lst_1 if type(x)==str])\n",
    "   \n",
    "    demo_dict = {\"sum\":res_1,\"count\":res_2}\n",
    "    \n",
    "    return res_1,res_2"
   ]
  },
  {
   "cell_type": "code",
   "execution_count": 29,
   "id": "72a89624",
   "metadata": {},
   "outputs": [
    {
     "name": "stdout",
     "output_type": "stream",
     "text": [
      "{'sum': 1, 'concat': 5}\n"
     ]
    }
   ],
   "source": [
    "#8\n",
    "demo_dict = {\"sum\":res_2,\"concat\":res_3}\n",
    "print(demo_dict)"
   ]
  },
  {
   "cell_type": "code",
   "execution_count": 33,
   "id": "af1297a3",
   "metadata": {},
   "outputs": [
    {
     "name": "stdout",
     "output_type": "stream",
     "text": [
      "5\n",
      "7\n",
      "97\n",
      "77\n",
      "23\n",
      "73\n",
      "61\n"
     ]
    }
   ],
   "source": [
    "# Question 9\n",
    "list_1 = [5,7,22,97,54,62,77,23,73,61]\n",
    "\n",
    "for items in list_1:\n",
    "    if (items%2)>0:\n",
    "        print(items)"
   ]
  },
  {
   "cell_type": "code",
   "execution_count": 37,
   "id": "50d69e6a",
   "metadata": {},
   "outputs": [
    {
     "data": {
      "text/plain": [
       "[5, 7, 97, 77, 23, 73, 61]"
      ]
     },
     "execution_count": 37,
     "metadata": {},
     "output_type": "execute_result"
    }
   ],
   "source": [
    "# Question 9\n",
    "\n",
    "list(filter( lambda l1:l1%2>0,list_1))"
   ]
  },
  {
   "cell_type": "code",
   "execution_count": 38,
   "id": "252bf83f",
   "metadata": {},
   "outputs": [
    {
     "data": {
      "text/plain": [
       "[5, 7, 97, 77, 23, 73, 61]"
      ]
     },
     "execution_count": 38,
     "metadata": {},
     "output_type": "execute_result"
    }
   ],
   "source": [
    "# Question 9\n",
    "list_1 = [5,7,22,97,54,62,77,23,73,61]\n",
    "list_comprehension = [items for items in list_1 if (items%2)>0]\n",
    "list_comprehension"
   ]
  },
  {
   "cell_type": "code",
   "execution_count": 39,
   "id": "40aad7ab",
   "metadata": {},
   "outputs": [],
   "source": [
    "# Question 10\n",
    "\n",
    "def unknown_input(*args):\n",
    "    print(args)\n",
    "    prod_val = 1\n",
    "    sum_val = 0\n",
    "    max_val = max(*args)\n",
    "    min_val = min(*args)\n",
    "    for i in args :\n",
    "        sum_val = i+sum_val\n",
    "        prod_val = i*prod_val\n",
    "        mean_value = sum_val/i\n",
    "    for index,value in enumerate(args):\n",
    "        count_val = index+1\n",
    "        \n",
    "    return sum_val,prod_val,max_val,min_val,count_val"
   ]
  },
  {
   "cell_type": "code",
   "execution_count": 40,
   "id": "6c6d9a26",
   "metadata": {},
   "outputs": [
    {
     "name": "stdout",
     "output_type": "stream",
     "text": [
      "(1, 2, 3, 4, 5, 6, 7, 8, 9, 10, 11)\n"
     ]
    },
    {
     "data": {
      "text/plain": [
       "(66, 39916800, 11, 1, 11)"
      ]
     },
     "execution_count": 40,
     "metadata": {},
     "output_type": "execute_result"
    }
   ],
   "source": [
    "unknown_input(1,2,3,4,5,6,7,8,9,10,11)"
   ]
  },
  {
   "cell_type": "code",
   "execution_count": 41,
   "id": "6ca09d4a",
   "metadata": {},
   "outputs": [],
   "source": [
    "# Question 11\n",
    "def dummy(**kwargs):\n",
    "    for key,value in kwargs.items():\n",
    "        print(key,value)\n",
    "    print(kwargs)"
   ]
  },
  {
   "cell_type": "code",
   "execution_count": 42,
   "id": "9fd16b11",
   "metadata": {},
   "outputs": [
    {
     "name": "stdout",
     "output_type": "stream",
     "text": [
      "12\n",
      "3\n",
      "4\n",
      "square 144\n",
      "circle 50.24\n",
      "rectangle 72\n",
      "{'square': 144, 'circle': 50.24, 'rectangle': 72}\n"
     ]
    }
   ],
   "source": [
    "i=int(input())\n",
    "j=int(input())\n",
    "r=int(input())\n",
    "s2 = 3.14*r*r\n",
    "s1=i*i\n",
    "s3=2*i*j\n",
    "dummy(square=int(s1),circle=float(s2),rectangle=int(s3))\n"
   ]
  },
  {
   "cell_type": "code",
   "execution_count": 45,
   "id": "55c67ece",
   "metadata": {},
   "outputs": [],
   "source": [
    "# Question 12\n",
    "l1 = ['January','February','March','May','June','Septmber','December']\n",
    "l2 = ['January', 'February', 'March', 'April', 'June', 'October', 'December' ]\n",
    "\n",
    "def func(l1,l2):\n",
    "    l3=set(l1)\n",
    "    l4=set(l2)\n",
    "    l5=list(l3.intersection(l4))\n",
    "    l6=list(l4.difference(l3))\n",
    "    l7=list(l3.difference(l4))\n",
    "    \n",
    "    demo_dict = {\n",
    "    \"Matched\" : l5,\n",
    "    \"only in l1\" :l7,\n",
    "    \"only in l2\":l6\n",
    "     }\n",
    "    \n",
    "    print(demo_dict)"
   ]
  },
  {
   "cell_type": "code",
   "execution_count": 46,
   "id": "7d0c03f1",
   "metadata": {},
   "outputs": [
    {
     "name": "stdout",
     "output_type": "stream",
     "text": [
      "{'Matched': ['March', 'June', 'December', 'January', 'February'], 'only in l1': ['Septmber', 'May'], 'only in l2': ['October', 'April']}\n"
     ]
    }
   ],
   "source": [
    "func(l1,l2)"
   ]
  },
  {
   "cell_type": "code",
   "execution_count": 48,
   "id": "0f1a2e2a",
   "metadata": {},
   "outputs": [],
   "source": [
    "#Question 13\n",
    "\n",
    "def prime_number(num_1):\n",
    "    if(num_1 >=2):\n",
    "        for i in range(2,num_1):\n",
    "            if(num_1%i==0):\n",
    "                return true\n",
    "    else:\n",
    "        return False \n",
    "    return False\n",
    "    "
   ]
  },
  {
   "cell_type": "code",
   "execution_count": 49,
   "id": "e1f15cd4",
   "metadata": {},
   "outputs": [
    {
     "data": {
      "text/plain": [
       "False"
      ]
     },
     "execution_count": 49,
     "metadata": {},
     "output_type": "execute_result"
    }
   ],
   "source": [
    "prime_number(29)"
   ]
  },
  {
   "cell_type": "code",
   "execution_count": 54,
   "id": "e649d568",
   "metadata": {},
   "outputs": [
    {
     "name": "stdout",
     "output_type": "stream",
     "text": [
      "8\n",
      "40320\n"
     ]
    }
   ],
   "source": [
    "# Question 14\n",
    "s= input()\n",
    "factorial =1\n",
    "for i in range (1,int(s)+1):\n",
    "    factorial = factorial *i\n",
    "print(factorial)\n"
   ]
  },
  {
   "cell_type": "code",
   "execution_count": 56,
   "id": "4dcbbbe1",
   "metadata": {},
   "outputs": [
    {
     "name": "stdout",
     "output_type": "stream",
     "text": [
      "8\n",
      "[1, 2, 3, 4, 5, 6, 7, 8]\n",
      "[1, 4, 9, 16, 25, 36, 49, 64]\n",
      "{1: 1, 2: 4, 3: 9, 4: 16, 5: 25, 6: 36, 7: 49, 8: 64}\n"
     ]
    }
   ],
   "source": [
    "s=int(input())\n",
    "a=range(1,s+1)\n",
    "    \n",
    "for v in range (1,s+1):\n",
    "    result_1=list(map(lambda v:v,a))\n",
    "print(result_1)\n",
    "\n",
    "for v in range(1,s+1):\n",
    "    result_2=list(map(lambda v:v*v,a))\n",
    "print(result_2)\n",
    "\n",
    "demo_dict={result_1[r]:result_2[r]for r in range(len(result_1))}\n",
    "print(demo_dict)\n",
    "    "
   ]
  },
  {
   "cell_type": "code",
   "execution_count": 57,
   "id": "dd253cf0",
   "metadata": {},
   "outputs": [
    {
     "name": "stdout",
     "output_type": "stream",
     "text": [
      "34,67,55,33,14,96\n",
      "('34', '67', '55', '33', '14', '96') ['34', '67', '55', '33', '14', '96']\n"
     ]
    },
    {
     "data": {
      "text/plain": [
       "['34', '67', '55', '33', '14', '96']"
      ]
     },
     "execution_count": 57,
     "metadata": {},
     "output_type": "execute_result"
    }
   ],
   "source": [
    "#Question  16\n",
    "s= input()\n",
    "s1=s.split(\",\")\n",
    "t1=tuple(s1)\n",
    "l1=list(s1)\n",
    "print(t1,l1)\n",
    "t1\n",
    "l1"
   ]
  },
  {
   "cell_type": "code",
   "execution_count": 58,
   "id": "0bf7f43a",
   "metadata": {},
   "outputs": [
    {
     "name": "stdout",
     "output_type": "stream",
     "text": [
      "without,hello,bag,word\n",
      "bag,hello,without,word\n"
     ]
    }
   ],
   "source": [
    "#Question 17\n",
    "s=input()\n",
    "words = [word for word in s.split(\",\")]\n",
    "print(\",\".join(sorted(words)))"
   ]
  },
  {
   "cell_type": "code",
   "execution_count": 62,
   "id": "f085403c",
   "metadata": {},
   "outputs": [
    {
     "name": "stdout",
     "output_type": "stream",
     "text": [
      "hello world and practice makes perfect and hello world again\n",
      "again and hello makes perfect practice world\n"
     ]
    }
   ],
   "source": [
    "#Question 18\n",
    "s= input()\n",
    "word= s.split(\" \")\n",
    "print(\" \".join (sorted(set(word))))"
   ]
  },
  {
   "cell_type": "code",
   "execution_count": 66,
   "id": "ebed5413",
   "metadata": {},
   "outputs": [
    {
     "name": "stdout",
     "output_type": "stream",
     "text": [
      "Hello World\n",
      "Lowercase alphabet count is: 8\n",
      "Uppercase alphabet count is 2\n"
     ]
    }
   ],
   "source": [
    "# Question 19\n",
    "string_value =input()\n",
    "count_1=0\n",
    "count_2=0\n",
    "for i in string_value:\n",
    "    if (i.islower()):\n",
    "        count_1 =count_1+1\n",
    "    elif(i.isupper()):\n",
    "        count_2 =count_2 + 1\n",
    "print(\"Lowercase alphabet count is:\",count_1)\n",
    "print(\"Uppercase alphabet count is\",count_2)"
   ]
  },
  {
   "cell_type": "code",
   "execution_count": 67,
   "id": "50581463",
   "metadata": {},
   "outputs": [
    {
     "name": "stdout",
     "output_type": "stream",
     "text": [
      "321dcba\n"
     ]
    }
   ],
   "source": [
    "#Question 20\n",
    "string = \"abcd123\"\n",
    "str = \"\"\n",
    "for i in string:\n",
    "    str = i + str\n",
    "print(str)"
   ]
  },
  {
   "cell_type": "code",
   "execution_count": null,
   "id": "359727a0",
   "metadata": {},
   "outputs": [],
   "source": []
  }
 ],
 "metadata": {
  "kernelspec": {
   "display_name": "Python 3 (ipykernel)",
   "language": "python",
   "name": "python3"
  },
  "language_info": {
   "codemirror_mode": {
    "name": "ipython",
    "version": 3
   },
   "file_extension": ".py",
   "mimetype": "text/x-python",
   "name": "python",
   "nbconvert_exporter": "python",
   "pygments_lexer": "ipython3",
   "version": "3.9.13"
  }
 },
 "nbformat": 4,
 "nbformat_minor": 5
}
